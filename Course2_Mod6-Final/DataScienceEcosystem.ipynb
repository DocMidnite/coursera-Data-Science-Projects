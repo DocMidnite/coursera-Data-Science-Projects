{
 "cells": [
  {
   "cell_type": "markdown",
   "id": "6b598c16-c185-44c0-acfa-63497b1c5e80",
   "metadata": {},
   "source": [
    "# Data Science Tools and Ecosystem #"
   ]
  },
  {
   "cell_type": "markdown",
   "id": "9c9b9647-89e9-4202-9676-de1f43dae9a1",
   "metadata": {},
   "source": [
    "### In this notebook we summarize the Tools an Ecosystem of Data Science ###"
   ]
  },
  {
   "cell_type": "markdown",
   "id": "4cd5b98d-ab37-454d-b24a-28fc272aa86a",
   "metadata": {},
   "source": [
    "**Objectives:**\n",
    "- List some popular languages used in Data Science\n",
    "- List some popular libraries used in Data Science\n",
    "- List some popular tools and development environments used in Data Science\n",
    "- Demonstrate some basic mathematical functionality of Python language\n",
    "- Demonstrate basic understanding and usage of Markdown and Jupyter Notebooks"
   ]
  },
  {
   "cell_type": "markdown",
   "id": "f25f7b73-e709-4a2c-b881-18c4a7a73489",
   "metadata": {},
   "source": [
    "Some of the popular languages that Data Scientiests use are:\n",
    "1. Python\n",
    "2. R\n",
    "3. SQL\n",
    "4. Java\n",
    "5. Scala\n",
    "6. Julia"
   ]
  },
  {
   "cell_type": "markdown",
   "id": "e7f7bb4b-eda2-4da2-81fb-cd4c426916c9",
   "metadata": {},
   "source": [
    "Data Scientists commonly use some of the following libraries:\n",
    "1. Pandas\n",
    "2. Seaborn\n",
    "3. Matlab\n",
    "4. Tensorflow"
   ]
  },
  {
   "cell_type": "markdown",
   "id": "b5e301d6-9a49-4206-87f8-3b78eb85e62d",
   "metadata": {},
   "source": [
    "| Data Science Tools |\n",
    "| ------------------ |\n",
    "| Apache Spark |\n",
    "| Apache Hadoop |\n",
    "| Jupyter Notebook |\n",
    "| R Studio |"
   ]
  },
  {
   "cell_type": "markdown",
   "id": "a2c61aee-bf0f-431a-a50d-d112e6ac336f",
   "metadata": {},
   "source": [
    "### Below are a few examples of evaluating aritmetic expression in Python ###"
   ]
  },
  {
   "cell_type": "code",
   "execution_count": 3,
   "id": "f76a42b2-406f-4a67-9da0-f499037a34d8",
   "metadata": {},
   "outputs": [
    {
     "data": {
      "text/plain": [
       "17"
      ]
     },
     "execution_count": 3,
     "metadata": {},
     "output_type": "execute_result"
    }
   ],
   "source": [
    "# A simple arithmetic expression to perform multiplication and addition on integers\n",
    "(3 * 4) + 5"
   ]
  },
  {
   "cell_type": "code",
   "execution_count": 4,
   "id": "2145df25-3856-4621-ad5b-72b8dddb4910",
   "metadata": {},
   "outputs": [
    {
     "data": {
      "text/plain": [
       "3.3333333333333335"
      ]
     },
     "execution_count": 4,
     "metadata": {},
     "output_type": "execute_result"
    }
   ],
   "source": [
    "# This will convert (200) minutes to hours by dividing by 60 (minutes per hour)\n",
    "200 / 60"
   ]
  },
  {
   "cell_type": "markdown",
   "id": "e970f9fd-07d3-4c68-944d-62fd5a898584",
   "metadata": {},
   "source": [
    "## Author: ##\n",
    "Brett Perlas"
   ]
  },
  {
   "cell_type": "code",
   "execution_count": null,
   "id": "d61b3d37-920f-46ca-af7e-1a405ed15b4e",
   "metadata": {},
   "outputs": [],
   "source": []
  }
 ],
 "metadata": {
  "kernelspec": {
   "display_name": "Python 3 (ipykernel)",
   "language": "python",
   "name": "python3"
  },
  "language_info": {
   "codemirror_mode": {
    "name": "ipython",
    "version": 3
   },
   "file_extension": ".py",
   "mimetype": "text/x-python",
   "name": "python",
   "nbconvert_exporter": "python",
   "pygments_lexer": "ipython3",
   "version": "3.12.8"
  }
 },
 "nbformat": 4,
 "nbformat_minor": 5
}
